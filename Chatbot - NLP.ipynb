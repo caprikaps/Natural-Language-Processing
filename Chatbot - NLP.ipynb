{
 "cells": [
  {
   "cell_type": "markdown",
   "metadata": {},
   "source": [
    "___\n",
    "\n",
    "<a href='http://www.pieriandata.com'> <img src='../Pierian_Data_Logo.png' /></a>\n",
    "___\n",
    "# Question and Answer Chat Bots"
   ]
  },
  {
   "cell_type": "markdown",
   "metadata": {},
   "source": [
    "----\n",
    "\n",
    "------"
   ]
  },
  {
   "cell_type": "markdown",
   "metadata": {},
   "source": [
    "## Loading the Data\n",
    "\n",
    "We will be working with the Babi Data Set from Facebook Research.\n",
    "\n",
    "Full Details: https://research.fb.com/downloads/babi/\n",
    "\n",
    "- Jason Weston, Antoine Bordes, Sumit Chopra, Tomas Mikolov, Alexander M. Rush,\n",
    "  \"Towards AI-Complete Question Answering: A Set of Prerequisite Toy Tasks\",\n",
    "  http://arxiv.org/abs/1502.05698\n"
   ]
  },
  {
   "cell_type": "code",
   "execution_count": 1,
   "metadata": {},
   "outputs": [],
   "source": [
    "import pickle\n",
    "import numpy as np"
   ]
  },
  {
   "cell_type": "code",
   "execution_count": 2,
   "metadata": {},
   "outputs": [],
   "source": [
    "with open ('C:/Users/ksa/Downloads/original/UPDATED_NLP_COURSE/06-Deep-Learning/train_qa.txt', 'rb') as f:\n",
    "    train_data = pickle.load(f)"
   ]
  },
  {
   "cell_type": "code",
   "execution_count": 3,
   "metadata": {},
   "outputs": [],
   "source": [
    "with open ('C:/Users/ksa/Downloads/original/UPDATED_NLP_COURSE/06-Deep-Learning/test_qa.txt', 'rb') as f:\n",
    "    test_data = pickle.load(f)"
   ]
  },
  {
   "cell_type": "markdown",
   "metadata": {},
   "source": [
    "----"
   ]
  },
  {
   "cell_type": "markdown",
   "metadata": {},
   "source": [
    "## Exploring the Format of the Data"
   ]
  },
  {
   "cell_type": "code",
   "execution_count": 4,
   "metadata": {},
   "outputs": [
    {
     "data": {
      "text/plain": [
       "list"
      ]
     },
     "execution_count": 4,
     "metadata": {},
     "output_type": "execute_result"
    }
   ],
   "source": [
    "type(test_data)"
   ]
  },
  {
   "cell_type": "code",
   "execution_count": 5,
   "metadata": {},
   "outputs": [
    {
     "data": {
      "text/plain": [
       "list"
      ]
     },
     "execution_count": 5,
     "metadata": {},
     "output_type": "execute_result"
    }
   ],
   "source": [
    "type(train_data)"
   ]
  },
  {
   "cell_type": "code",
   "execution_count": 6,
   "metadata": {},
   "outputs": [
    {
     "data": {
      "text/plain": [
       "1000"
      ]
     },
     "execution_count": 6,
     "metadata": {},
     "output_type": "execute_result"
    }
   ],
   "source": [
    "len(test_data)"
   ]
  },
  {
   "cell_type": "code",
   "execution_count": 7,
   "metadata": {},
   "outputs": [
    {
     "data": {
      "text/plain": [
       "10000"
      ]
     },
     "execution_count": 7,
     "metadata": {},
     "output_type": "execute_result"
    }
   ],
   "source": [
    "len(train_data)"
   ]
  },
  {
   "cell_type": "code",
   "execution_count": 8,
   "metadata": {},
   "outputs": [
    {
     "data": {
      "text/plain": [
       "(['Mary',\n",
       "  'moved',\n",
       "  'to',\n",
       "  'the',\n",
       "  'bathroom',\n",
       "  '.',\n",
       "  'Sandra',\n",
       "  'journeyed',\n",
       "  'to',\n",
       "  'the',\n",
       "  'bedroom',\n",
       "  '.'],\n",
       " ['Is', 'Sandra', 'in', 'the', 'hallway', '?'],\n",
       " 'no')"
      ]
     },
     "execution_count": 8,
     "metadata": {},
     "output_type": "execute_result"
    }
   ],
   "source": [
    "train_data[0]"
   ]
  },
  {
   "cell_type": "code",
   "execution_count": 9,
   "metadata": {},
   "outputs": [
    {
     "data": {
      "text/plain": [
       "'Mary moved to the bathroom . Sandra journeyed to the bedroom .'"
      ]
     },
     "execution_count": 9,
     "metadata": {},
     "output_type": "execute_result"
    }
   ],
   "source": [
    "' '.join(train_data[0][0])"
   ]
  },
  {
   "cell_type": "code",
   "execution_count": 10,
   "metadata": {},
   "outputs": [
    {
     "data": {
      "text/plain": [
       "'Is Sandra in the hallway ?'"
      ]
     },
     "execution_count": 10,
     "metadata": {},
     "output_type": "execute_result"
    }
   ],
   "source": [
    "' '.join(train_data[0][1])"
   ]
  },
  {
   "cell_type": "code",
   "execution_count": 11,
   "metadata": {},
   "outputs": [
    {
     "data": {
      "text/plain": [
       "'no'"
      ]
     },
     "execution_count": 11,
     "metadata": {},
     "output_type": "execute_result"
    }
   ],
   "source": [
    "train_data[0][2]"
   ]
  },
  {
   "cell_type": "markdown",
   "metadata": {},
   "source": [
    "-----\n",
    "\n",
    "## Setting up Vocabulary of All Words"
   ]
  },
  {
   "cell_type": "code",
   "execution_count": 12,
   "metadata": {},
   "outputs": [],
   "source": [
    "# Create a set that holds the vocab words\n",
    "vocab = set()"
   ]
  },
  {
   "cell_type": "code",
   "execution_count": 13,
   "metadata": {},
   "outputs": [],
   "source": [
    "all_data = test_data + train_data"
   ]
  },
  {
   "cell_type": "code",
   "execution_count": 14,
   "metadata": {},
   "outputs": [],
   "source": [
    "for story, question , answer in all_data:\n",
    "    # In case you don't know what a union of sets is:\n",
    "    # https://www.programiz.com/python-programming/methods/set/union\n",
    "    vocab = vocab.union(set(story))\n",
    "    vocab = vocab.union(set(question))"
   ]
  },
  {
   "cell_type": "code",
   "execution_count": 15,
   "metadata": {},
   "outputs": [],
   "source": [
    "vocab.add('no')\n",
    "vocab.add('yes')"
   ]
  },
  {
   "cell_type": "code",
   "execution_count": 16,
   "metadata": {},
   "outputs": [
    {
     "data": {
      "text/plain": [
       "{'.',\n",
       " '?',\n",
       " 'Daniel',\n",
       " 'Is',\n",
       " 'John',\n",
       " 'Mary',\n",
       " 'Sandra',\n",
       " 'apple',\n",
       " 'back',\n",
       " 'bathroom',\n",
       " 'bedroom',\n",
       " 'discarded',\n",
       " 'down',\n",
       " 'dropped',\n",
       " 'football',\n",
       " 'garden',\n",
       " 'got',\n",
       " 'grabbed',\n",
       " 'hallway',\n",
       " 'in',\n",
       " 'journeyed',\n",
       " 'kitchen',\n",
       " 'left',\n",
       " 'milk',\n",
       " 'moved',\n",
       " 'no',\n",
       " 'office',\n",
       " 'picked',\n",
       " 'put',\n",
       " 'the',\n",
       " 'there',\n",
       " 'to',\n",
       " 'took',\n",
       " 'travelled',\n",
       " 'up',\n",
       " 'went',\n",
       " 'yes'}"
      ]
     },
     "execution_count": 16,
     "metadata": {},
     "output_type": "execute_result"
    }
   ],
   "source": [
    "vocab"
   ]
  },
  {
   "cell_type": "code",
   "execution_count": 17,
   "metadata": {},
   "outputs": [],
   "source": [
    "vocab_len = len(vocab) + 1 #we add an extra space to hold a 0 for Keras's pad_sequences"
   ]
  },
  {
   "cell_type": "code",
   "execution_count": 18,
   "metadata": {},
   "outputs": [],
   "source": [
    "max_story_len = max([len(data[0]) for data in all_data])"
   ]
  },
  {
   "cell_type": "code",
   "execution_count": 19,
   "metadata": {},
   "outputs": [
    {
     "data": {
      "text/plain": [
       "156"
      ]
     },
     "execution_count": 19,
     "metadata": {},
     "output_type": "execute_result"
    }
   ],
   "source": [
    "max_story_len"
   ]
  },
  {
   "cell_type": "code",
   "execution_count": 20,
   "metadata": {},
   "outputs": [],
   "source": [
    "max_question_len = max([len(data[1]) for data in all_data])"
   ]
  },
  {
   "cell_type": "code",
   "execution_count": 21,
   "metadata": {},
   "outputs": [
    {
     "data": {
      "text/plain": [
       "6"
      ]
     },
     "execution_count": 21,
     "metadata": {},
     "output_type": "execute_result"
    }
   ],
   "source": [
    "max_question_len"
   ]
  },
  {
   "cell_type": "markdown",
   "metadata": {},
   "source": [
    "## Vectorizing the Data"
   ]
  },
  {
   "cell_type": "code",
   "execution_count": 22,
   "metadata": {},
   "outputs": [
    {
     "data": {
      "text/plain": [
       "{'.',\n",
       " '?',\n",
       " 'Daniel',\n",
       " 'Is',\n",
       " 'John',\n",
       " 'Mary',\n",
       " 'Sandra',\n",
       " 'apple',\n",
       " 'back',\n",
       " 'bathroom',\n",
       " 'bedroom',\n",
       " 'discarded',\n",
       " 'down',\n",
       " 'dropped',\n",
       " 'football',\n",
       " 'garden',\n",
       " 'got',\n",
       " 'grabbed',\n",
       " 'hallway',\n",
       " 'in',\n",
       " 'journeyed',\n",
       " 'kitchen',\n",
       " 'left',\n",
       " 'milk',\n",
       " 'moved',\n",
       " 'no',\n",
       " 'office',\n",
       " 'picked',\n",
       " 'put',\n",
       " 'the',\n",
       " 'there',\n",
       " 'to',\n",
       " 'took',\n",
       " 'travelled',\n",
       " 'up',\n",
       " 'went',\n",
       " 'yes'}"
      ]
     },
     "execution_count": 22,
     "metadata": {},
     "output_type": "execute_result"
    }
   ],
   "source": [
    "vocab"
   ]
  },
  {
   "cell_type": "code",
   "execution_count": 23,
   "metadata": {},
   "outputs": [],
   "source": [
    "# Reserve 0 for pad_sequences\n",
    "vocab_size = len(vocab) + 1"
   ]
  },
  {
   "cell_type": "markdown",
   "metadata": {},
   "source": [
    "-----------"
   ]
  },
  {
   "cell_type": "code",
   "execution_count": 24,
   "metadata": {},
   "outputs": [
    {
     "name": "stderr",
     "output_type": "stream",
     "text": [
      "Using TensorFlow backend.\n",
      "C:\\Users\\ksa\\Anaconda3\\lib\\site-packages\\tensorflow\\python\\framework\\dtypes.py:526: FutureWarning: Passing (type, 1) or '1type' as a synonym of type is deprecated; in a future version of numpy, it will be understood as (type, (1,)) / '(1,)type'.\n",
      "  _np_qint8 = np.dtype([(\"qint8\", np.int8, 1)])\n",
      "C:\\Users\\ksa\\Anaconda3\\lib\\site-packages\\tensorflow\\python\\framework\\dtypes.py:527: FutureWarning: Passing (type, 1) or '1type' as a synonym of type is deprecated; in a future version of numpy, it will be understood as (type, (1,)) / '(1,)type'.\n",
      "  _np_quint8 = np.dtype([(\"quint8\", np.uint8, 1)])\n",
      "C:\\Users\\ksa\\Anaconda3\\lib\\site-packages\\tensorflow\\python\\framework\\dtypes.py:528: FutureWarning: Passing (type, 1) or '1type' as a synonym of type is deprecated; in a future version of numpy, it will be understood as (type, (1,)) / '(1,)type'.\n",
      "  _np_qint16 = np.dtype([(\"qint16\", np.int16, 1)])\n",
      "C:\\Users\\ksa\\Anaconda3\\lib\\site-packages\\tensorflow\\python\\framework\\dtypes.py:529: FutureWarning: Passing (type, 1) or '1type' as a synonym of type is deprecated; in a future version of numpy, it will be understood as (type, (1,)) / '(1,)type'.\n",
      "  _np_quint16 = np.dtype([(\"quint16\", np.uint16, 1)])\n",
      "C:\\Users\\ksa\\Anaconda3\\lib\\site-packages\\tensorflow\\python\\framework\\dtypes.py:530: FutureWarning: Passing (type, 1) or '1type' as a synonym of type is deprecated; in a future version of numpy, it will be understood as (type, (1,)) / '(1,)type'.\n",
      "  _np_qint32 = np.dtype([(\"qint32\", np.int32, 1)])\n",
      "C:\\Users\\ksa\\Anaconda3\\lib\\site-packages\\tensorflow\\python\\framework\\dtypes.py:535: FutureWarning: Passing (type, 1) or '1type' as a synonym of type is deprecated; in a future version of numpy, it will be understood as (type, (1,)) / '(1,)type'.\n",
      "  np_resource = np.dtype([(\"resource\", np.ubyte, 1)])\n"
     ]
    }
   ],
   "source": [
    "from keras.preprocessing.sequence import pad_sequences\n",
    "from keras.preprocessing.text import Tokenizer"
   ]
  },
  {
   "cell_type": "code",
   "execution_count": 25,
   "metadata": {},
   "outputs": [],
   "source": [
    "# integer encode sequences of words\n",
    "tokenizer = Tokenizer(filters=[])\n",
    "tokenizer.fit_on_texts(vocab)"
   ]
  },
  {
   "cell_type": "code",
   "execution_count": 26,
   "metadata": {},
   "outputs": [
    {
     "data": {
      "text/plain": [
       "{'grabbed': 1,\n",
       " 'is': 2,\n",
       " 'back': 3,\n",
       " '?': 4,\n",
       " 'there': 5,\n",
       " 'yes': 6,\n",
       " 'to': 7,\n",
       " 'milk': 8,\n",
       " 'got': 9,\n",
       " 'football': 10,\n",
       " 'dropped': 11,\n",
       " 'kitchen': 12,\n",
       " 'the': 13,\n",
       " 'left': 14,\n",
       " 'took': 15,\n",
       " 'office': 16,\n",
       " 'put': 17,\n",
       " 'sandra': 18,\n",
       " 'in': 19,\n",
       " 'hallway': 20,\n",
       " 'no': 21,\n",
       " 'up': 22,\n",
       " 'journeyed': 23,\n",
       " 'down': 24,\n",
       " 'garden': 25,\n",
       " 'bedroom': 26,\n",
       " 'discarded': 27,\n",
       " 'travelled': 28,\n",
       " 'moved': 29,\n",
       " 'went': 30,\n",
       " 'mary': 31,\n",
       " 'apple': 32,\n",
       " 'john': 33,\n",
       " '.': 34,\n",
       " 'bathroom': 35,\n",
       " 'daniel': 36,\n",
       " 'picked': 37}"
      ]
     },
     "execution_count": 26,
     "metadata": {},
     "output_type": "execute_result"
    }
   ],
   "source": [
    "tokenizer.word_index"
   ]
  },
  {
   "cell_type": "code",
   "execution_count": 31,
   "metadata": {},
   "outputs": [],
   "source": [
    "# word_index = tokenizer.word_index"
   ]
  },
  {
   "cell_type": "markdown",
   "metadata": {},
   "source": [
    "### Functionalize Vectorization"
   ]
  },
  {
   "cell_type": "code",
   "execution_count": 32,
   "metadata": {},
   "outputs": [],
   "source": [
    "def vectorize_stories(data, word_index=tokenizer.word_index, max_story_len=max_story_len,max_question_len=max_question_len):\n",
    "    '''\n",
    "    INPUT: \n",
    "    \n",
    "    data: consisting of Stories,Queries,and Answers\n",
    "    word_index: word index dictionary from tokenizer\n",
    "    max_story_len: the length of the longest story (used for pad_sequences function)\n",
    "    max_question_len: length of the longest question (used for pad_sequences function)\n",
    "\n",
    "\n",
    "    OUTPUT:\n",
    "    \n",
    "    Vectorizes the stories,questions, and answers into padded sequences. We first loop for every story, query , and\n",
    "    answer in the data. Then we convert the raw words to an word index value. Then we append each set to their appropriate\n",
    "    output list. Then once we have converted the words to numbers, we pad the sequences so they are all of equal length.\n",
    "    \n",
    "    Returns this in the form of a tuple (X,Xq,Y) (padded based on max lengths)\n",
    "    '''\n",
    "    \n",
    "    \n",
    "    # X = STORIES\n",
    "    X = []\n",
    "    # Xq = QUERY/QUESTION\n",
    "    Xq = []\n",
    "    # Y = CORRECT ANSWER\n",
    "    Y = []\n",
    "    \n",
    "    \n",
    "    for story, query, answer in data:\n",
    "        \n",
    "        # Grab the word index for every word in story\n",
    "        x = [word_index[word.lower()] for word in story]\n",
    "        # Grab the word index for every word in query\n",
    "        xq = [word_index[word.lower()] for word in query]\n",
    "        \n",
    "        # Grab the Answers (either Yes/No so we don't need to use list comprehension here)\n",
    "        # Index 0 is reserved so we're going to use + 1\n",
    "        y = np.zeros(len(word_index) + 1)\n",
    "        \n",
    "        # Now that y is all zeros and we know its just Yes/No , we can use numpy logic to create this assignment\n",
    "        #\n",
    "        y[word_index[answer]] = 1\n",
    "        \n",
    "        # Append each set of story,query, and answer to their respective holding lists\n",
    "        X.append(x)\n",
    "        Xq.append(xq)\n",
    "        Y.append(y)\n",
    "        \n",
    "    # Finally, pad the sequences based on their max length so the RNN can be trained on uniformly long sequences.\n",
    "        \n",
    "    # RETURN TUPLE FOR UNPACKING\n",
    "    return (pad_sequences(X, maxlen=max_story_len),pad_sequences(Xq, maxlen=max_question_len), np.array(Y))"
   ]
  },
  {
   "cell_type": "code",
   "execution_count": 34,
   "metadata": {},
   "outputs": [],
   "source": [
    "inputs_train, queries_train, answers_train = vectorize_stories(train_data)"
   ]
  },
  {
   "cell_type": "code",
   "execution_count": 36,
   "metadata": {},
   "outputs": [],
   "source": [
    "inputs_test, queries_test, answers_test = vectorize_stories(test_data)"
   ]
  },
  {
   "cell_type": "code",
   "execution_count": 38,
   "metadata": {},
   "outputs": [
    {
     "data": {
      "text/plain": [
       "array([[ 0,  0,  0, ..., 13, 26, 34],\n",
       "       [ 0,  0,  0, ..., 13, 20, 34],\n",
       "       [ 0,  0,  0, ..., 13, 35, 34],\n",
       "       ...,\n",
       "       [ 0,  0,  0, ..., 13, 26, 34],\n",
       "       [ 0,  0,  0, ...,  8,  5, 34],\n",
       "       [ 0,  0,  0, ..., 32,  5, 34]])"
      ]
     },
     "execution_count": 38,
     "metadata": {},
     "output_type": "execute_result"
    }
   ],
   "source": [
    "inputs_train"
   ]
  },
  {
   "cell_type": "code",
   "execution_count": 42,
   "metadata": {},
   "outputs": [
    {
     "data": {
      "text/plain": [
       "array([[0., 0., 0., ..., 0., 0., 0.],\n",
       "       [0., 0., 0., ..., 0., 0., 0.],\n",
       "       [0., 0., 0., ..., 0., 0., 0.],\n",
       "       ...,\n",
       "       [0., 0., 0., ..., 0., 0., 0.],\n",
       "       [0., 0., 0., ..., 0., 0., 0.],\n",
       "       [0., 0., 0., ..., 0., 0., 0.]])"
      ]
     },
     "execution_count": 42,
     "metadata": {},
     "output_type": "execute_result"
    }
   ],
   "source": [
    "answers_test"
   ]
  },
  {
   "cell_type": "code",
   "execution_count": 45,
   "metadata": {},
   "outputs": [
    {
     "data": {
      "text/plain": [
       "6"
      ]
     },
     "execution_count": 45,
     "metadata": {},
     "output_type": "execute_result"
    }
   ],
   "source": [
    "tokenizer.word_index['yes']"
   ]
  },
  {
   "cell_type": "code",
   "execution_count": 46,
   "metadata": {},
   "outputs": [
    {
     "data": {
      "text/plain": [
       "21"
      ]
     },
     "execution_count": 46,
     "metadata": {},
     "output_type": "execute_result"
    }
   ],
   "source": [
    "tokenizer.word_index['no']"
   ]
  },
  {
   "cell_type": "code",
   "execution_count": 48,
   "metadata": {},
   "outputs": [
    {
     "data": {
      "text/plain": [
       "array([  0.,   0.,   0.,   0.,   0.,   0., 497.,   0.,   0.,   0.,   0.,\n",
       "         0.,   0.,   0.,   0.,   0.,   0.,   0.,   0.,   0.,   0., 503.,\n",
       "         0.,   0.,   0.,   0.,   0.,   0.,   0.,   0.,   0.,   0.,   0.,\n",
       "         0.,   0.,   0.,   0.,   0.])"
      ]
     },
     "execution_count": 48,
     "metadata": {},
     "output_type": "execute_result"
    }
   ],
   "source": [
    "sum(answers_test)"
   ]
  },
  {
   "cell_type": "markdown",
   "metadata": {},
   "source": [
    "# Creating the Model\n",
    "1. Build the Network:\n",
    "\n",
    "    a) Input Encoder M    \n",
    "    b) Input Encoder C    \n",
    "    c) Question Encoder\n",
    "    \n",
    "    \n",
    "2. Complete the Network"
   ]
  },
  {
   "cell_type": "code",
   "execution_count": 50,
   "metadata": {},
   "outputs": [],
   "source": [
    "from keras.models import Sequential, Model\n",
    "from keras.layers.embeddings import Embedding\n",
    "from keras.layers import Input, Activation, Dense, Permute, Dropout\n",
    "from keras.layers import add, dot, concatenate\n",
    "from keras.layers import LSTM"
   ]
  },
  {
   "cell_type": "code",
   "execution_count": 54,
   "metadata": {},
   "outputs": [],
   "source": [
    "# STEP 1-  Create placeholders for both the inputs - story and questions\n",
    "input_sequence = Input((max_story_len,))\n",
    "question = Input((max_question_len,))"
   ]
  },
  {
   "cell_type": "code",
   "execution_count": 58,
   "metadata": {},
   "outputs": [],
   "source": [
    "# STEP 2- VOCAB\n",
    "vocab_size = len(vocab) + 1"
   ]
  },
  {
   "cell_type": "markdown",
   "metadata": {},
   "source": [
    "## ENCODERS"
   ]
  },
  {
   "cell_type": "markdown",
   "metadata": {},
   "source": [
    "### Input Encoder m"
   ]
  },
  {
   "cell_type": "code",
   "execution_count": 59,
   "metadata": {},
   "outputs": [],
   "source": [
    "# STEP 3 - Input Encoder m with output dim = 64\n",
    "# Create INPUT ENCODER M\n",
    "input_encoder_m = Sequential()\n",
    "input_encoder_m.add(Embedding(input_dim = vocab_size, output_dim = 64))\n",
    "\n",
    "# Dropout layer - turns off percentage of neurons during training - so 0.5 means 50% of neurons are random turned off\n",
    "input_encoder_m.add(Dropout(0.3))\n",
    "\n",
    "# This encoder will output:\n",
    "# (samples, story_maxlen, embedding_dim)"
   ]
  },
  {
   "cell_type": "markdown",
   "metadata": {},
   "source": [
    "### Input Encoder c"
   ]
  },
  {
   "cell_type": "code",
   "execution_count": 60,
   "metadata": {},
   "outputs": [],
   "source": [
    "# STEP 3 - Input Encoder c with output dim = max_question_len\n",
    "# Create INPUT ENCODER M\n",
    "input_encoder_c = Sequential()\n",
    "input_encoder_c.add(Embedding(input_dim = vocab_size, output_dim = max_question_len))\n",
    "\n",
    "# Dropout layer - turns off percentage of neurons during training - so 0.5 means 50% of neurons are random turned off\n",
    "input_encoder_c.add(Dropout(0.3))\n",
    "\n",
    "# This encoder will output:\n",
    "# (samples, story_maxlen, max_question_len)"
   ]
  },
  {
   "cell_type": "markdown",
   "metadata": {},
   "source": [
    "### Question Encoder"
   ]
  },
  {
   "cell_type": "code",
   "execution_count": 66,
   "metadata": {},
   "outputs": [],
   "source": [
    "# embed the question into a sequence of vectors\n",
    "question_encoder = Sequential()\n",
    "question_encoder.add(Embedding(input_dim=vocab_size,\n",
    "                               output_dim=64,\n",
    "                               input_length=max_question_len))\n",
    "question_encoder.add(Dropout(0.3))\n",
    "# output: (samples, query_maxlen, embedding_dim)"
   ]
  },
  {
   "cell_type": "markdown",
   "metadata": {},
   "source": [
    "## Encode the Sequences"
   ]
  },
  {
   "cell_type": "code",
   "execution_count": 67,
   "metadata": {},
   "outputs": [],
   "source": [
    "# Time to pass the placeholders (input sequence and question) through the encoders\n",
    "input_encoded_m = input_encoder_m(input_sequence)\n",
    "input_encoded_c = input_encoder_c(input_sequence)\n",
    "question_encoded = question_encoder(question)"
   ]
  },
  {
   "cell_type": "markdown",
   "metadata": {},
   "source": [
    "##### Use dot product to compute the match between first input vector seq and the query"
   ]
  },
  {
   "cell_type": "code",
   "execution_count": 65,
   "metadata": {},
   "outputs": [],
   "source": [
    "# match the question with the input (search for question match) and then do a dot product\n",
    "match = dot([input_encoded_m, question_encoded], axes = (2,2))\n",
    "match = Activation('softmax')(match)"
   ]
  },
  {
   "cell_type": "markdown",
   "metadata": {},
   "source": [
    "#### Add this match matrix with the second input vector sequence"
   ]
  },
  {
   "cell_type": "code",
   "execution_count": 69,
   "metadata": {},
   "outputs": [],
   "source": [
    "# add the match matrix with the second input vector sequence\n",
    "response = add([match, input_encoded_c])\n",
    "response = Permute((2,1))(response)"
   ]
  },
  {
   "cell_type": "code",
   "execution_count": 71,
   "metadata": {},
   "outputs": [],
   "source": [
    "# concatenate the match matrix with the question vector sequence\n",
    "answer = concatenate([response, question_encoded])"
   ]
  },
  {
   "cell_type": "code",
   "execution_count": 72,
   "metadata": {},
   "outputs": [
    {
     "data": {
      "text/plain": [
       "<tf.Tensor 'concatenate_2/concat:0' shape=(?, 6, 220) dtype=float32>"
      ]
     },
     "execution_count": 72,
     "metadata": {},
     "output_type": "execute_result"
    }
   ],
   "source": [
    "answer"
   ]
  },
  {
   "cell_type": "code",
   "execution_count": 73,
   "metadata": {},
   "outputs": [],
   "source": [
    "# Reduce with RNN (LSTM)\n",
    "answer = LSTM(32)(answer)  # (samples, 32)"
   ]
  },
  {
   "cell_type": "code",
   "execution_count": 74,
   "metadata": {},
   "outputs": [],
   "source": [
    "# Regularization with Dropout\n",
    "answer = Dropout(0.5)(answer)\n",
    "answer = Dense(vocab_size)(answer)  # (samples, vocab_size)"
   ]
  },
  {
   "cell_type": "code",
   "execution_count": 80,
   "metadata": {},
   "outputs": [],
   "source": [
    "# we output a probability distribution over the vocabulary\n",
    "answer = Activation('softmax')(answer)"
   ]
  },
  {
   "cell_type": "code",
   "execution_count": 82,
   "metadata": {},
   "outputs": [],
   "source": [
    "# build the final model\n",
    "Model = Model([input_sequence, question], answer)\n",
    "Model.compile(optimizer='rmsprop', loss='categorical_crossentropy',\n",
    "              metrics=['accuracy'])"
   ]
  },
  {
   "cell_type": "code",
   "execution_count": 84,
   "metadata": {},
   "outputs": [
    {
     "name": "stdout",
     "output_type": "stream",
     "text": [
      "Model: \"model_1\"\n",
      "__________________________________________________________________________________________________\n",
      "Layer (type)                    Output Shape         Param #     Connected to                     \n",
      "==================================================================================================\n",
      "input_4 (InputLayer)            (None, 156)          0                                            \n",
      "__________________________________________________________________________________________________\n",
      "input_5 (InputLayer)            (None, 6)            0                                            \n",
      "__________________________________________________________________________________________________\n",
      "sequential_3 (Sequential)       multiple             2432        input_4[0][0]                    \n",
      "__________________________________________________________________________________________________\n",
      "sequential_6 (Sequential)       (None, 6, 64)        2432        input_5[0][0]                    \n",
      "__________________________________________________________________________________________________\n",
      "dot_1 (Dot)                     (None, 156, 6)       0           sequential_3[2][0]               \n",
      "                                                                 sequential_6[1][0]               \n",
      "__________________________________________________________________________________________________\n",
      "activation_1 (Activation)       (None, 156, 6)       0           dot_1[0][0]                      \n",
      "__________________________________________________________________________________________________\n",
      "sequential_4 (Sequential)       multiple             228         input_4[0][0]                    \n",
      "__________________________________________________________________________________________________\n",
      "add_2 (Add)                     (None, 156, 6)       0           activation_1[0][0]               \n",
      "                                                                 sequential_4[3][0]               \n",
      "__________________________________________________________________________________________________\n",
      "permute_1 (Permute)             (None, 6, 156)       0           add_2[0][0]                      \n",
      "__________________________________________________________________________________________________\n",
      "sequential_7 (Sequential)       (None, 6, 64)        2432        input_5[0][0]                    \n",
      "__________________________________________________________________________________________________\n",
      "concatenate_2 (Concatenate)     (None, 6, 220)       0           permute_1[0][0]                  \n",
      "                                                                 sequential_7[1][0]               \n",
      "__________________________________________________________________________________________________\n",
      "lstm_1 (LSTM)                   (None, 32)           32384       concatenate_2[0][0]              \n",
      "__________________________________________________________________________________________________\n",
      "dropout_7 (Dropout)             (None, 32)           0           lstm_1[0][0]                     \n",
      "__________________________________________________________________________________________________\n",
      "dense_1 (Dense)                 (None, 38)           1254        dropout_7[0][0]                  \n",
      "__________________________________________________________________________________________________\n",
      "activation_2 (Activation)       (None, 38)           0           dense_1[0][0]                    \n",
      "==================================================================================================\n",
      "Total params: 41,162\n",
      "Trainable params: 41,162\n",
      "Non-trainable params: 0\n",
      "__________________________________________________________________________________________________\n"
     ]
    }
   ],
   "source": [
    "Model.summary()"
   ]
  },
  {
   "cell_type": "code",
   "execution_count": 86,
   "metadata": {},
   "outputs": [
    {
     "name": "stdout",
     "output_type": "stream",
     "text": [
      "WARNING:tensorflow:From C:\\Users\\ksa\\Anaconda3\\lib\\site-packages\\tensorflow\\python\\ops\\math_ops.py:3066: to_int32 (from tensorflow.python.ops.math_ops) is deprecated and will be removed in a future version.\n",
      "Instructions for updating:\n",
      "Use tf.cast instead.\n",
      "WARNING:tensorflow:From C:\\Users\\ksa\\Anaconda3\\lib\\site-packages\\tensorflow\\python\\ops\\math_grad.py:102: div (from tensorflow.python.ops.math_ops) is deprecated and will be removed in a future version.\n",
      "Instructions for updating:\n",
      "Deprecated in favor of operator or tf.math.divide.\n",
      "Train on 10000 samples, validate on 1000 samples\n",
      "Epoch 1/120\n",
      "10000/10000 [==============================] - 6s 588us/step - loss: 0.9122 - accuracy: 0.4902 - val_loss: 0.7007 - val_accuracy: 0.4970\n",
      "Epoch 2/120\n",
      "10000/10000 [==============================] - 5s 461us/step - loss: 0.7041 - accuracy: 0.4998 - val_loss: 0.6933 - val_accuracy: 0.5030\n",
      "Epoch 3/120\n",
      "10000/10000 [==============================] - 6s 581us/step - loss: 0.6958 - accuracy: 0.5034 - val_loss: 0.6968 - val_accuracy: 0.4970\n",
      "Epoch 4/120\n",
      "10000/10000 [==============================] - 5s 507us/step - loss: 0.6952 - accuracy: 0.4947 - val_loss: 0.6932 - val_accuracy: 0.5030\n",
      "Epoch 5/120\n",
      "10000/10000 [==============================] - 5s 473us/step - loss: 0.6945 - accuracy: 0.5035 - val_loss: 0.6935 - val_accuracy: 0.4970\n",
      "Epoch 6/120\n",
      "10000/10000 [==============================] - 5s 463us/step - loss: 0.6942 - accuracy: 0.5016 - val_loss: 0.6933 - val_accuracy: 0.4820\n",
      "Epoch 7/120\n",
      "10000/10000 [==============================] - 5s 483us/step - loss: 0.6943 - accuracy: 0.5080 - val_loss: 0.6964 - val_accuracy: 0.5030\n",
      "Epoch 8/120\n",
      "10000/10000 [==============================] - 5s 504us/step - loss: 0.6945 - accuracy: 0.5029 - val_loss: 0.6945 - val_accuracy: 0.4870\n",
      "Epoch 9/120\n",
      "10000/10000 [==============================] - 5s 524us/step - loss: 0.6926 - accuracy: 0.5182 - val_loss: 0.6928 - val_accuracy: 0.5210\n",
      "Epoch 10/120\n",
      "10000/10000 [==============================] - 5s 538us/step - loss: 0.6640 - accuracy: 0.6068 - val_loss: 0.6268 - val_accuracy: 0.6900\n",
      "Epoch 11/120\n",
      "10000/10000 [==============================] - 5s 548us/step - loss: 0.5869 - accuracy: 0.7087 - val_loss: 0.5267 - val_accuracy: 0.7400\n",
      "Epoch 12/120\n",
      "10000/10000 [==============================] - 5s 533us/step - loss: 0.4913 - accuracy: 0.7755 - val_loss: 0.4354 - val_accuracy: 0.8050\n",
      "Epoch 13/120\n",
      "10000/10000 [==============================] - 5s 530us/step - loss: 0.4416 - accuracy: 0.8110 - val_loss: 0.4212 - val_accuracy: 0.8160\n",
      "Epoch 14/120\n",
      "10000/10000 [==============================] - 5s 519us/step - loss: 0.4092 - accuracy: 0.8328 - val_loss: 0.4054 - val_accuracy: 0.8230\n",
      "Epoch 15/120\n",
      "10000/10000 [==============================] - 5s 526us/step - loss: 0.3960 - accuracy: 0.8375 - val_loss: 0.4243 - val_accuracy: 0.8400\n",
      "Epoch 16/120\n",
      "10000/10000 [==============================] - 5s 490us/step - loss: 0.3770 - accuracy: 0.8448 - val_loss: 0.3878 - val_accuracy: 0.8450\n",
      "Epoch 17/120\n",
      "10000/10000 [==============================] - 5s 548us/step - loss: 0.3665 - accuracy: 0.8484 - val_loss: 0.3896 - val_accuracy: 0.8490\n",
      "Epoch 18/120\n",
      "10000/10000 [==============================] - 5s 518us/step - loss: 0.3556 - accuracy: 0.8546 - val_loss: 0.3694 - val_accuracy: 0.8330\n",
      "Epoch 19/120\n",
      "10000/10000 [==============================] - 5s 509us/step - loss: 0.3429 - accuracy: 0.8557 - val_loss: 0.3563 - val_accuracy: 0.8430\n",
      "Epoch 20/120\n",
      "10000/10000 [==============================] - 5s 525us/step - loss: 0.3340 - accuracy: 0.8598 - val_loss: 0.3737 - val_accuracy: 0.8460\n",
      "Epoch 21/120\n",
      "10000/10000 [==============================] - 5s 478us/step - loss: 0.3257 - accuracy: 0.8621 - val_loss: 0.3456 - val_accuracy: 0.8410\n",
      "Epoch 22/120\n",
      "10000/10000 [==============================] - 5s 468us/step - loss: 0.3228 - accuracy: 0.8608 - val_loss: 0.3545 - val_accuracy: 0.8260\n",
      "Epoch 23/120\n",
      "10000/10000 [==============================] - 5s 477us/step - loss: 0.3174 - accuracy: 0.8659 - val_loss: 0.3401 - val_accuracy: 0.8460\n",
      "Epoch 24/120\n",
      "10000/10000 [==============================] - 5s 473us/step - loss: 0.3145 - accuracy: 0.8635 - val_loss: 0.3525 - val_accuracy: 0.8480\n",
      "Epoch 25/120\n",
      "10000/10000 [==============================] - 5s 497us/step - loss: 0.3088 - accuracy: 0.8672 - val_loss: 0.3311 - val_accuracy: 0.8450\n",
      "Epoch 26/120\n",
      "10000/10000 [==============================] - 5s 469us/step - loss: 0.3068 - accuracy: 0.8659 - val_loss: 0.3309 - val_accuracy: 0.8490\n",
      "Epoch 27/120\n",
      "10000/10000 [==============================] - 4s 429us/step - loss: 0.3009 - accuracy: 0.8665 - val_loss: 0.3376 - val_accuracy: 0.8460\n",
      "Epoch 28/120\n",
      "10000/10000 [==============================] - 4s 418us/step - loss: 0.3037 - accuracy: 0.8673 - val_loss: 0.3400 - val_accuracy: 0.8500\n",
      "Epoch 29/120\n",
      "10000/10000 [==============================] - 4s 439us/step - loss: 0.3016 - accuracy: 0.8663 - val_loss: 0.3365 - val_accuracy: 0.8390\n",
      "Epoch 30/120\n",
      "10000/10000 [==============================] - 5s 485us/step - loss: 0.2983 - accuracy: 0.8690 - val_loss: 0.3292 - val_accuracy: 0.8430\n",
      "Epoch 31/120\n",
      "10000/10000 [==============================] - 5s 512us/step - loss: 0.2956 - accuracy: 0.8672 - val_loss: 0.3350 - val_accuracy: 0.8420\n",
      "Epoch 32/120\n",
      "10000/10000 [==============================] - 5s 499us/step - loss: 0.2960 - accuracy: 0.8682 - val_loss: 0.3497 - val_accuracy: 0.8390\n",
      "Epoch 33/120\n",
      "10000/10000 [==============================] - 5s 517us/step - loss: 0.2936 - accuracy: 0.8694 - val_loss: 0.3492 - val_accuracy: 0.8410\n",
      "Epoch 34/120\n",
      "10000/10000 [==============================] - 4s 446us/step - loss: 0.2933 - accuracy: 0.8681 - val_loss: 0.3378 - val_accuracy: 0.8440\n",
      "Epoch 35/120\n",
      "10000/10000 [==============================] - 6s 558us/step - loss: 0.2940 - accuracy: 0.8681 - val_loss: 0.3398 - val_accuracy: 0.8420\n",
      "Epoch 36/120\n",
      "10000/10000 [==============================] - 6s 584us/step - loss: 0.2884 - accuracy: 0.8724 - val_loss: 0.3537 - val_accuracy: 0.8430\n",
      "Epoch 37/120\n",
      "10000/10000 [==============================] - 6s 601us/step - loss: 0.2871 - accuracy: 0.8735 - val_loss: 0.3636 - val_accuracy: 0.8340\n",
      "Epoch 38/120\n",
      "10000/10000 [==============================] - 6s 567us/step - loss: 0.2896 - accuracy: 0.8726 - val_loss: 0.3334 - val_accuracy: 0.8450\n",
      "Epoch 39/120\n",
      "10000/10000 [==============================] - 6s 642us/step - loss: 0.2860 - accuracy: 0.8711 - val_loss: 0.3428 - val_accuracy: 0.8290\n",
      "Epoch 40/120\n",
      "10000/10000 [==============================] - 5s 508us/step - loss: 0.2888 - accuracy: 0.8708 - val_loss: 0.3468 - val_accuracy: 0.8350\n",
      "Epoch 41/120\n",
      "10000/10000 [==============================] - 5s 539us/step - loss: 0.2899 - accuracy: 0.8719 - val_loss: 0.3487 - val_accuracy: 0.8390\n",
      "Epoch 42/120\n",
      "10000/10000 [==============================] - 5s 536us/step - loss: 0.2881 - accuracy: 0.8712 - val_loss: 0.3615 - val_accuracy: 0.8400\n",
      "Epoch 43/120\n",
      "10000/10000 [==============================] - 5s 504us/step - loss: 0.2839 - accuracy: 0.8733 - val_loss: 0.3592 - val_accuracy: 0.8290\n",
      "Epoch 44/120\n",
      "10000/10000 [==============================] - 5s 542us/step - loss: 0.2848 - accuracy: 0.8741 - val_loss: 0.3427 - val_accuracy: 0.8410\n",
      "Epoch 45/120\n",
      "10000/10000 [==============================] - 5s 526us/step - loss: 0.2839 - accuracy: 0.8728 - val_loss: 0.4015 - val_accuracy: 0.8330\n",
      "Epoch 46/120\n",
      "10000/10000 [==============================] - 6s 637us/step - loss: 0.2860 - accuracy: 0.8747 - val_loss: 0.3735 - val_accuracy: 0.8460\n",
      "Epoch 47/120\n",
      "10000/10000 [==============================] - 6s 635us/step - loss: 0.2809 - accuracy: 0.8753 - val_loss: 0.3410 - val_accuracy: 0.8370\n",
      "Epoch 48/120\n",
      "10000/10000 [==============================] - 6s 631us/step - loss: 0.2825 - accuracy: 0.8713 - val_loss: 0.3468 - val_accuracy: 0.8370\n",
      "Epoch 49/120\n",
      "10000/10000 [==============================] - 6s 626us/step - loss: 0.2800 - accuracy: 0.8763 - val_loss: 0.3440 - val_accuracy: 0.8380\n",
      "Epoch 50/120\n",
      "10000/10000 [==============================] - 6s 624us/step - loss: 0.2787 - accuracy: 0.8721 - val_loss: 0.3548 - val_accuracy: 0.8430\n",
      "Epoch 51/120\n"
     ]
    },
    {
     "name": "stdout",
     "output_type": "stream",
     "text": [
      "10000/10000 [==============================] - 6s 594us/step - loss: 0.2790 - accuracy: 0.8759 - val_loss: 0.3486 - val_accuracy: 0.8310\n",
      "Epoch 52/120\n",
      "10000/10000 [==============================] - 6s 644us/step - loss: 0.2800 - accuracy: 0.8753 - val_loss: 0.3701 - val_accuracy: 0.8370\n",
      "Epoch 53/120\n",
      "10000/10000 [==============================] - 5s 474us/step - loss: 0.2776 - accuracy: 0.8775 - val_loss: 0.3680 - val_accuracy: 0.8390\n",
      "Epoch 54/120\n",
      "10000/10000 [==============================] - 6s 583us/step - loss: 0.2767 - accuracy: 0.8768 - val_loss: 0.3619 - val_accuracy: 0.8360\n",
      "Epoch 55/120\n",
      "10000/10000 [==============================] - 5s 476us/step - loss: 0.2773 - accuracy: 0.8772 - val_loss: 0.3675 - val_accuracy: 0.8400\n",
      "Epoch 56/120\n",
      "10000/10000 [==============================] - 5s 499us/step - loss: 0.2734 - accuracy: 0.8783 - val_loss: 0.3700 - val_accuracy: 0.8370\n",
      "Epoch 57/120\n",
      "10000/10000 [==============================] - 6s 554us/step - loss: 0.2753 - accuracy: 0.8793 - val_loss: 0.3943 - val_accuracy: 0.8400\n",
      "Epoch 58/120\n",
      "10000/10000 [==============================] - 5s 519us/step - loss: 0.2698 - accuracy: 0.8816 - val_loss: 0.3985 - val_accuracy: 0.8320\n",
      "Epoch 59/120\n",
      "10000/10000 [==============================] - 5s 505us/step - loss: 0.2711 - accuracy: 0.8799 - val_loss: 0.3780 - val_accuracy: 0.8320\n",
      "Epoch 60/120\n",
      "10000/10000 [==============================] - 5s 522us/step - loss: 0.2699 - accuracy: 0.8796 - val_loss: 0.3744 - val_accuracy: 0.8250\n",
      "Epoch 61/120\n",
      "10000/10000 [==============================] - 5s 516us/step - loss: 0.2715 - accuracy: 0.8770 - val_loss: 0.3935 - val_accuracy: 0.8360\n",
      "Epoch 62/120\n",
      "10000/10000 [==============================] - 5s 522us/step - loss: 0.2726 - accuracy: 0.8793 - val_loss: 0.3591 - val_accuracy: 0.8290\n",
      "Epoch 63/120\n",
      "10000/10000 [==============================] - 5s 521us/step - loss: 0.2689 - accuracy: 0.8794 - val_loss: 0.3553 - val_accuracy: 0.8360\n",
      "Epoch 64/120\n",
      "10000/10000 [==============================] - 5s 491us/step - loss: 0.2710 - accuracy: 0.8817 - val_loss: 0.3888 - val_accuracy: 0.8380\n",
      "Epoch 65/120\n",
      "10000/10000 [==============================] - 5s 491us/step - loss: 0.2705 - accuracy: 0.8803 - val_loss: 0.3596 - val_accuracy: 0.8320\n",
      "Epoch 66/120\n",
      "10000/10000 [==============================] - 5s 475us/step - loss: 0.2707 - accuracy: 0.8807 - val_loss: 0.3801 - val_accuracy: 0.8340\n",
      "Epoch 67/120\n",
      "10000/10000 [==============================] - 4s 424us/step - loss: 0.2668 - accuracy: 0.8825 - val_loss: 0.3709 - val_accuracy: 0.8350\n",
      "Epoch 68/120\n",
      "10000/10000 [==============================] - 5s 455us/step - loss: 0.2673 - accuracy: 0.8797 - val_loss: 0.3802 - val_accuracy: 0.8310\n",
      "Epoch 69/120\n",
      "10000/10000 [==============================] - 5s 507us/step - loss: 0.2641 - accuracy: 0.8826 - val_loss: 0.3920 - val_accuracy: 0.8360\n",
      "Epoch 70/120\n",
      "10000/10000 [==============================] - 5s 477us/step - loss: 0.2698 - accuracy: 0.8821 - val_loss: 0.4014 - val_accuracy: 0.8320\n",
      "Epoch 71/120\n",
      "10000/10000 [==============================] - 4s 418us/step - loss: 0.2628 - accuracy: 0.8817 - val_loss: 0.3687 - val_accuracy: 0.8370\n",
      "Epoch 72/120\n",
      "10000/10000 [==============================] - 4s 429us/step - loss: 0.2618 - accuracy: 0.8828 - val_loss: 0.4150 - val_accuracy: 0.8400\n",
      "Epoch 73/120\n",
      "10000/10000 [==============================] - 5s 521us/step - loss: 0.2644 - accuracy: 0.8830 - val_loss: 0.4280 - val_accuracy: 0.8300\n",
      "Epoch 74/120\n",
      "10000/10000 [==============================] - 6s 551us/step - loss: 0.2619 - accuracy: 0.8837 - val_loss: 0.4345 - val_accuracy: 0.8340\n",
      "Epoch 75/120\n",
      "10000/10000 [==============================] - 6s 553us/step - loss: 0.2578 - accuracy: 0.8809 - val_loss: 0.3933 - val_accuracy: 0.8300\n",
      "Epoch 76/120\n",
      "10000/10000 [==============================] - 5s 527us/step - loss: 0.2579 - accuracy: 0.8837 - val_loss: 0.3855 - val_accuracy: 0.8310\n",
      "Epoch 77/120\n",
      "10000/10000 [==============================] - 5s 535us/step - loss: 0.2590 - accuracy: 0.8876 - val_loss: 0.3972 - val_accuracy: 0.8280\n",
      "Epoch 78/120\n",
      "10000/10000 [==============================] - 5s 535us/step - loss: 0.2585 - accuracy: 0.8851 - val_loss: 0.4113 - val_accuracy: 0.8290\n",
      "Epoch 79/120\n",
      "10000/10000 [==============================] - 5s 515us/step - loss: 0.2577 - accuracy: 0.8849 - val_loss: 0.3992 - val_accuracy: 0.8220\n",
      "Epoch 80/120\n",
      "10000/10000 [==============================] - 5s 485us/step - loss: 0.2546 - accuracy: 0.8862 - val_loss: 0.3928 - val_accuracy: 0.8230\n",
      "Epoch 81/120\n",
      "10000/10000 [==============================] - 5s 519us/step - loss: 0.2613 - accuracy: 0.8861 - val_loss: 0.4631 - val_accuracy: 0.8320\n",
      "Epoch 82/120\n",
      "10000/10000 [==============================] - 5s 536us/step - loss: 0.2542 - accuracy: 0.8840 - val_loss: 0.4416 - val_accuracy: 0.8300\n",
      "Epoch 83/120\n",
      "10000/10000 [==============================] - 5s 534us/step - loss: 0.2559 - accuracy: 0.8874 - val_loss: 0.4384 - val_accuracy: 0.8270\n",
      "Epoch 84/120\n",
      "10000/10000 [==============================] - 5s 506us/step - loss: 0.2511 - accuracy: 0.8876 - val_loss: 0.4013 - val_accuracy: 0.8330\n",
      "Epoch 85/120\n",
      "10000/10000 [==============================] - 5s 506us/step - loss: 0.2497 - accuracy: 0.8890 - val_loss: 0.3696 - val_accuracy: 0.8300\n",
      "Epoch 86/120\n",
      "10000/10000 [==============================] - 5s 504us/step - loss: 0.2466 - accuracy: 0.8905 - val_loss: 0.4159 - val_accuracy: 0.8260\n",
      "Epoch 87/120\n",
      "10000/10000 [==============================] - 5s 510us/step - loss: 0.2506 - accuracy: 0.8876 - val_loss: 0.5015 - val_accuracy: 0.8250\n",
      "Epoch 88/120\n",
      "10000/10000 [==============================] - 5s 522us/step - loss: 0.2485 - accuracy: 0.8897 - val_loss: 0.4781 - val_accuracy: 0.8290\n",
      "Epoch 89/120\n",
      "10000/10000 [==============================] - 5s 497us/step - loss: 0.2432 - accuracy: 0.8909 - val_loss: 0.4734 - val_accuracy: 0.8240\n",
      "Epoch 90/120\n",
      "10000/10000 [==============================] - 5s 510us/step - loss: 0.2486 - accuracy: 0.8881 - val_loss: 0.4703 - val_accuracy: 0.8270\n",
      "Epoch 91/120\n",
      "10000/10000 [==============================] - 5s 496us/step - loss: 0.2432 - accuracy: 0.8898 - val_loss: 0.4051 - val_accuracy: 0.8250\n",
      "Epoch 92/120\n",
      "10000/10000 [==============================] - 5s 487us/step - loss: 0.2422 - accuracy: 0.8920 - val_loss: 0.4610 - val_accuracy: 0.8340\n",
      "Epoch 93/120\n",
      "10000/10000 [==============================] - 5s 497us/step - loss: 0.2377 - accuracy: 0.8932 - val_loss: 0.5258 - val_accuracy: 0.8250\n",
      "Epoch 94/120\n",
      "10000/10000 [==============================] - 5s 511us/step - loss: 0.2442 - accuracy: 0.8908 - val_loss: 0.4627 - val_accuracy: 0.8290\n",
      "Epoch 95/120\n",
      "10000/10000 [==============================] - 5s 474us/step - loss: 0.2440 - accuracy: 0.8929 - val_loss: 0.4597 - val_accuracy: 0.8250\n",
      "Epoch 96/120\n",
      "10000/10000 [==============================] - 5s 497us/step - loss: 0.2377 - accuracy: 0.8914 - val_loss: 0.5452 - val_accuracy: 0.8190\n",
      "Epoch 97/120\n",
      "10000/10000 [==============================] - 5s 502us/step - loss: 0.2333 - accuracy: 0.8950 - val_loss: 0.5253 - val_accuracy: 0.8270\n",
      "Epoch 98/120\n",
      "10000/10000 [==============================] - 5s 486us/step - loss: 0.2406 - accuracy: 0.8932 - val_loss: 0.4643 - val_accuracy: 0.8280\n",
      "Epoch 99/120\n",
      "10000/10000 [==============================] - 5s 511us/step - loss: 0.2377 - accuracy: 0.8921 - val_loss: 0.4620 - val_accuracy: 0.8280\n",
      "Epoch 100/120\n",
      "10000/10000 [==============================] - 5s 477us/step - loss: 0.2297 - accuracy: 0.8965 - val_loss: 0.4922 - val_accuracy: 0.8250\n",
      "Epoch 101/120\n",
      "10000/10000 [==============================] - 5s 492us/step - loss: 0.2338 - accuracy: 0.8957 - val_loss: 0.4862 - val_accuracy: 0.8260\n",
      "Epoch 102/120\n",
      "10000/10000 [==============================] - 5s 501us/step - loss: 0.2320 - accuracy: 0.8966 - val_loss: 0.6162 - val_accuracy: 0.8340\n",
      "Epoch 103/120\n",
      "10000/10000 [==============================] - 5s 489us/step - loss: 0.2277 - accuracy: 0.8942 - val_loss: 0.4614 - val_accuracy: 0.8230\n",
      "Epoch 104/120\n",
      "10000/10000 [==============================] - 5s 489us/step - loss: 0.2280 - accuracy: 0.8965 - val_loss: 0.5133 - val_accuracy: 0.8240\n",
      "Epoch 105/120\n"
     ]
    },
    {
     "name": "stdout",
     "output_type": "stream",
     "text": [
      "10000/10000 [==============================] - 6s 577us/step - loss: 0.2305 - accuracy: 0.8965 - val_loss: 0.4697 - val_accuracy: 0.8270\n",
      "Epoch 106/120\n",
      "10000/10000 [==============================] - 6s 552us/step - loss: 0.2257 - accuracy: 0.8983 - val_loss: 0.5072 - val_accuracy: 0.8210\n",
      "Epoch 107/120\n",
      "10000/10000 [==============================] - 5s 530us/step - loss: 0.2284 - accuracy: 0.8971 - val_loss: 0.4851 - val_accuracy: 0.8360\n",
      "Epoch 108/120\n",
      "10000/10000 [==============================] - 5s 482us/step - loss: 0.2227 - accuracy: 0.8985 - val_loss: 0.5391 - val_accuracy: 0.8260\n",
      "Epoch 109/120\n",
      "10000/10000 [==============================] - 5s 502us/step - loss: 0.2241 - accuracy: 0.9006 - val_loss: 0.4836 - val_accuracy: 0.8240\n",
      "Epoch 110/120\n",
      "10000/10000 [==============================] - 5s 504us/step - loss: 0.2257 - accuracy: 0.9015 - val_loss: 0.4995 - val_accuracy: 0.8260\n",
      "Epoch 111/120\n",
      "10000/10000 [==============================] - 5s 531us/step - loss: 0.2150 - accuracy: 0.8995 - val_loss: 0.5342 - val_accuracy: 0.8230\n",
      "Epoch 112/120\n",
      "10000/10000 [==============================] - 5s 530us/step - loss: 0.2168 - accuracy: 0.9034 - val_loss: 0.5375 - val_accuracy: 0.8230\n",
      "Epoch 113/120\n",
      "10000/10000 [==============================] - 6s 555us/step - loss: 0.2215 - accuracy: 0.9037 - val_loss: 0.5175 - val_accuracy: 0.8230\n",
      "Epoch 114/120\n",
      "10000/10000 [==============================] - 6s 559us/step - loss: 0.2190 - accuracy: 0.9019 - val_loss: 0.5423 - val_accuracy: 0.8220\n",
      "Epoch 115/120\n",
      "10000/10000 [==============================] - 5s 549us/step - loss: 0.2166 - accuracy: 0.9038 - val_loss: 0.5566 - val_accuracy: 0.8240\n",
      "Epoch 116/120\n",
      "10000/10000 [==============================] - 5s 506us/step - loss: 0.2216 - accuracy: 0.9014 - val_loss: 0.5710 - val_accuracy: 0.8210\n",
      "Epoch 117/120\n",
      "10000/10000 [==============================] - 5s 491us/step - loss: 0.2118 - accuracy: 0.9062 - val_loss: 0.6613 - val_accuracy: 0.8270\n",
      "Epoch 118/120\n",
      "10000/10000 [==============================] - 5s 501us/step - loss: 0.2119 - accuracy: 0.9036 - val_loss: 0.5360 - val_accuracy: 0.8280\n",
      "Epoch 119/120\n",
      "10000/10000 [==============================] - 5s 468us/step - loss: 0.2119 - accuracy: 0.9071 - val_loss: 0.5918 - val_accuracy: 0.8270\n",
      "Epoch 120/120\n",
      "10000/10000 [==============================] - 5s 535us/step - loss: 0.2079 - accuracy: 0.9088 - val_loss: 0.6045 - val_accuracy: 0.8240\n"
     ]
    }
   ],
   "source": [
    "# Model train\n",
    "history = Model.fit([inputs_train, queries_train], answers_train,batch_size=32,epochs=120,validation_data=([inputs_test, queries_test], answers_test))"
   ]
  },
  {
   "cell_type": "code",
   "execution_count": 88,
   "metadata": {},
   "outputs": [
    {
     "name": "stdout",
     "output_type": "stream",
     "text": [
      "dict_keys(['val_loss', 'val_accuracy', 'loss', 'accuracy'])\n"
     ]
    },
    {
     "data": {
      "image/png": "[encoded data removed]",
      "text/plain": [
       "<Figure size 432x288 with 1 Axes>"
      ]
     },
     "metadata": {
      "needs_background": "light"
     },
     "output_type": "display_data"
    }
   ],
   "source": [
    "import matplotlib.pyplot as plt\n",
    "%matplotlib inline\n",
    "print(history.history.keys())\n",
    "# summarize history for accuracy\n",
    "plt.plot(history.history['accuracy'])\n",
    "plt.plot(history.history['val_accuracy'])\n",
    "plt.title('model accuracy')\n",
    "plt.ylabel('accuracy')\n",
    "plt.xlabel('epoch')\n",
    "plt.legend(['train', 'test'], loc='upper left')\n",
    "plt.show()\n"
   ]
  },
  {
   "cell_type": "code",
   "execution_count": 91,
   "metadata": {},
   "outputs": [],
   "source": [
    "pred_results = Model.predict(([inputs_test, queries_test]))"
   ]
  },
  {
   "cell_type": "code",
   "execution_count": 95,
   "metadata": {},
   "outputs": [
    {
     "data": {
      "text/plain": [
       "'Mary got the milk there . John moved to the bedroom .'"
      ]
     },
     "execution_count": 95,
     "metadata": {},
     "output_type": "execute_result"
    }
   ],
   "source": [
    "' '.join(test_data[0][0])"
   ]
  },
  {
   "cell_type": "code",
   "execution_count": 96,
   "metadata": {},
   "outputs": [
    {
     "data": {
      "text/plain": [
       "['Is', 'John', 'in', 'the', 'kitchen', '?']"
      ]
     },
     "execution_count": 96,
     "metadata": {},
     "output_type": "execute_result"
    }
   ],
   "source": [
    "test_data[0][1]"
   ]
  },
  {
   "cell_type": "code",
   "execution_count": 97,
   "metadata": {},
   "outputs": [
    {
     "data": {
      "text/plain": [
       "'no'"
      ]
     },
     "execution_count": 97,
     "metadata": {},
     "output_type": "execute_result"
    }
   ],
   "source": [
    "test_data[0][2]"
   ]
  },
  {
   "cell_type": "code",
   "execution_count": 90,
   "metadata": {},
   "outputs": [
    {
     "name": "stdout",
     "output_type": "stream",
     "text": [
      "Predicted answer is:  no\n",
      "Probability of certainty was:  0.9999974\n"
     ]
    }
   ],
   "source": [
    "#Generate prediction from model for first story - to check the predicted accuracy against above element\n",
    "val_max = np.argmax(pred_results[0])\n",
    "\n",
    "for key, val in tokenizer.word_index.items():\n",
    "    if val == val_max:\n",
    "        k = key\n",
    "\n",
    "print(\"Predicted answer is: \", k)\n",
    "print(\"Probability of certainty was: \", pred_results[0][val_max])"
   ]
  }
 ],
 "metadata": {
  "kernelspec": {
   "display_name": "Python 3",
   "language": "python",
   "name": "python3"
  },
  "language_info": {
   "codemirror_mode": {
    "name": "ipython",
    "version": 3
   },
   "file_extension": ".py",
   "mimetype": "text/x-python",
   "name": "python",
   "nbconvert_exporter": "python",
   "pygments_lexer": "ipython3",
   "version": "3.7.6"
  }
 },
 "nbformat": 4,
 "nbformat_minor": 2
}
